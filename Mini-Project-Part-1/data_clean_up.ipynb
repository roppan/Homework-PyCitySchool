{
 "cells": [
  {
   "cell_type": "markdown",
   "metadata": {},
   "source": [
    "## Python Mini-Project: Data Clean-Up, Pt. 1\n",
    "\n",
    "Pay close attention to the prompts to help guide you through this task."
   ]
  },
  {
   "cell_type": "code",
   "execution_count": null,
   "metadata": {},
   "outputs": [],
   "source": [
    "# Dependencies\n",
    "import pandas as pd\n",
    "import numpy as np"
   ]
  },
  {
   "cell_type": "code",
   "execution_count": null,
   "metadata": {},
   "outputs": [],
   "source": [
    "# load CSV\n",
    "csvpath = \"Resources/2016-FCC-New-Coders-Survey-Data.csv\""
   ]
  },
  {
   "cell_type": "code",
   "execution_count": null,
   "metadata": {},
   "outputs": [],
   "source": [
    "# Read with pandas\n",
    "new_coders_pd = pd.read_csv(new_coders, encoding = 'iso-8859-1', low_memory=False)\n",
    "new_coers_pd.head()"
   ]
  },
  {
   "cell_type": "code",
   "execution_count": null,
   "metadata": {},
   "outputs": [],
   "source": [
    "# Inspect all columns\n",
    "new_coders_pd.columns"
   ]
  },
  {
   "cell_type": "code",
   "execution_count": null,
   "metadata": {},
   "outputs": [],
   "source": [
    "# Extract only columns 0, 1, 2, 3, 4, 7, 8, 9, 10,11, 29, 30, 32, 36, 37, 45, 48, 56, 110, 111\n",
    "# Use iloc to accomplish this (remember that you need to take the position of the rows and columns into account)\n",
    "reduced_coders_pd = new_coders_pd.iloc[:, [0,1,2,3,4,7,8,9,10,11,29,30,32.36,37,45,48,56,110,111]]\n",
    "reduced_coders_pd.head()"
   ]
  },
  {
   "cell_type": "code",
   "execution_count": null,
   "metadata": {},
   "outputs": [],
   "source": [
    "# Change \"0\" to \"No\" and \"1\" to \"Yes\" in response columns\n",
    "# Hint use the df.replace function\n",
    "reduced_coders_pd = reduced_coders_pd.replace({0.0: \"No\", 1.0: \"Yes\"})\n",
    "reduced_coders_pd.head()"
   ]
  },
  {
   "cell_type": "code",
   "execution_count": null,
   "metadata": {},
   "outputs": [],
   "source": [
    "# Calculate total number of respondents in survey\n",
    "# consider using the len() function\n",
    "total_new_coders = len(new_coders_pd)\n",
    "total_surveyed"
   ]
  },
  {
   "cell_type": "code",
   "execution_count": null,
   "metadata": {},
   "outputs": [],
   "source": [
    "# Extract rows corresponding only to people who attended a bootcamp\n",
    "# Filter using df.loc on the AttendedBootcamp column\n",
    "attended_bootcamp = new_coders_pd.loc[new-coders_pd[\"AttendedBootcamp\"] == \"Yes\"]\n",
    "attended_bootcamp.count()"
   ]
  },
  {
   "cell_type": "code",
   "execution_count": null,
   "metadata": {},
   "outputs": [],
   "source": [
    "# Calculate average age of attendees\n",
    "# Pull out the `Age` series and take the average of it\n",
    "average_age = attended_bootcamp[\"Age\"].mean()"
   ]
  },
  {
   "cell_type": "code",
   "execution_count": null,
   "metadata": {},
   "outputs": [],
   "source": [
    "# Calculate how many people attended a bootcamp\n",
    "# Count the values of the AttendedBootcamp column\n",
    "amount_attended = attended_bootcamp[\"AttendedBootcamp\"].count()"
   ]
  },
  {
   "cell_type": "code",
   "execution_count": null,
   "metadata": {},
   "outputs": [],
   "source": [
    "# Calculate how many attendees hold degrees\n",
    "# It is easier to do this with `value_counts() count values for the SchoolDegree column\n",
    "\n",
    "holds_degree = attended_bootcamp[\"SchoolDegree\"].count()"
   ]
  },
  {
   "cell_type": "code",
   "execution_count": null,
   "metadata": {},
   "outputs": [],
   "source": [
    "# Count the number of records where the person is a degree holder\n",
    "# There are several ways to approach this. You can look for people who have degrees\n",
    "# or for people who don't have degrees depending on the value of the SchoolDegree column\n",
    "total_gender = attended_bootcamp[\"Gender\"].count()\n",
    "male = attended_bootcamp[\"Gender\"].vale_counts(['male']\n",
    "female = attended_bootcamp[\"Gender\"].vale_counts(['female']\n",
    "non_gender_specific = total_gender - male - female                                                 "
   ]
  },
  {
   "cell_type": "code",
   "execution_count": null,
   "metadata": {},
   "outputs": [],
   "source": [
    "# Count number of attendees who self-identify as male; female; or are of non-binary gender identification\n",
    "gender_number =data_attendees['Gender'].value_counts()\n",
    "gender_number\n"
   ]
  },
  {
   "cell_type": "code",
   "execution_count": null,
   "metadata": {},
   "outputs": [],
   "source": [
    "# Calculate percentage of respondents who attended a bootcamp\n",
    "bootcamp_avg = (len(data_attendees)/ len(data))*100\n",
    "bootcamp_avg\n"
   ]
  },
  {
   "cell_type": "code",
   "execution_count": null,
   "metadata": {},
   "outputs": [],
   "source": [
    "# Calculate percentage of respondents belonging to each gender\n",
    "gender_pct= data_attenees[\"Gender\"].value_counts(\"male\")\n",
    "male_pct= gender_pct[0]\n",
    "female_pct= gender_pct[1]\n",
    "non_specific_pct = gender_pct[2]+gender_pct[3+gender_pct[4]]\n",
    "non_specific_pct\n"
   ]
  },
  {
   "cell_type": "code",
   "execution_count": null,
   "metadata": {},
   "outputs": [],
   "source": [
    "# Calculate percentage of attendees with a college degree\n",
    "hold_degree_df = data_attendees[\"SchoolDegree\"].value_counts()\n",
    "hold_degree_df\n",
    "\n",
    "total_degree = hold_degree_df.loc[[\"bachelor's degree\",\"master's degree (non-professional)\",\"professional degree (MBA, MD, )\"]]\n",
    "\n",
    "dereee_pct = total_degree / attended_bc"
   ]
  },
  {
   "cell_type": "code",
   "execution_count": null,
   "metadata": {},
   "outputs": [],
   "source": [
    "# Calculate average post-bootcamp salary\n",
    "\n",
    "postsalary_df = data[\"BootcampPostSalary\"].mean()\n",
    "postsalary_df"
   ]
  },
  {
   "cell_type": "code",
   "execution_count": null,
   "metadata": {},
   "outputs": [],
   "source": [
    "# Create a new table consolidating above calculations\n",
    "\n"
   ]
  },
  {
   "cell_type": "code",
   "execution_count": null,
   "metadata": {},
   "outputs": [],
   "source": [
    "# Improve formatting before outputting spreadsheet\n",
    "\n"
   ]
  },
  {
   "cell_type": "code",
   "execution_count": null,
   "metadata": {},
   "outputs": [],
   "source": [
    "# Export to Excel\n",
    "# Use df.to_excel to export to excel. Don't include the indexes\n",
    "\n"
   ]
  }
 ],
 "metadata": {
  "anaconda-cloud": {},
  "kernelspec": {
   "display_name": "Python 3",
   "language": "python",
   "name": "python3"
  },
  "language_info": {
   "codemirror_mode": {
    "name": "ipython",
    "version": 3
   },
   "file_extension": ".py",
   "mimetype": "text/x-python",
   "name": "python",
   "nbconvert_exporter": "python",
   "pygments_lexer": "ipython3",
   "version": "3.7.4"
  }
 },
 "nbformat": 4,
 "nbformat_minor": 2
}

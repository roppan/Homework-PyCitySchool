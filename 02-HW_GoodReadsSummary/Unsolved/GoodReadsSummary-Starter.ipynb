{
 "cells": [
  {
   "cell_type": "code",
   "execution_count": null,
   "metadata": {},
   "outputs": [],
   "source": [
    "# Import Dependencies\n",
    "import pandas as pd"
   ]
  },
  {
   "cell_type": "code",
   "execution_count": null,
   "metadata": {
    "scrolled": true
   },
   "outputs": [],
   "source": [
    "# Path and filename for the file to Load\n",
    "csv_path = \"Resources/GoodReads.csv\"\n",
    "\n",
    "# Read the modified GoodReads csv and store into Pandas DataFrame\n",
    "\n"
   ]
  },
  {
   "cell_type": "code",
   "execution_count": null,
   "metadata": {},
   "outputs": [],
   "source": [
    "# Calculate the number of unique authors in the DataFrame\n",
    "author_count = len(goodreads_df[\"Authors\"].unique())\n",
    "\n",
    "# Calculate the earliest/latest year a book was published\n",
    "earliest_year = goodreads_df[\"Publication Year\"].min()\n",
    "latest_year = goodreads_df[\"Publication Year\"].max()\n",
    "\n",
    "# Calculate the total reviews column that contains the sum of reviews (total - all authors)\n",
    "\n",
    "goodreads_df['Total Reviews'] = goodreads_df.iloc[:, 4:].sum(axis=1)\n",
    "total_reviews = sum(goodreads_df['Total Reviews'])\n",
    "# Hint: use the pandas' sum(axis='columns') to get the sum across the columns \n"
   ]
  },
  {
   "cell_type": "code",
   "execution_count": null,
   "metadata": {},
   "outputs": [],
   "source": [
    "# Create a `total_reviews` variable that sums up the values from your new `Total Reviews` column in the DataFrame\n",
    "\n"
   ]
  },
  {
   "cell_type": "code",
   "execution_count": null,
   "metadata": {},
   "outputs": [],
   "source": [
    "# Place all of the data found into a summary DataFrame\n",
    "summary_df = pd.DataFrame({\"Total unique Authors\": [author_count],\n",
    "                           \"Earliest Year\": earliest_year,\n",
    "                           \"Latest Year\": latest_year,\n",
    "                           \"Total Reviews\": total_reviews})\n",
    "\n",
    "summary_df\n",
    "\n",
    "# Show the DataFrame\n"
   ]
  },
  {
   "cell_type": "code",
   "execution_count": null,
   "metadata": {},
   "outputs": [],
   "source": []
  },
  {
   "cell_type": "code",
   "execution_count": null,
   "metadata": {},
   "outputs": [],
   "source": []
  }
 ],
 "metadata": {
  "kernelspec": {
   "display_name": "Python 3",
   "language": "python",
   "name": "python3"
  },
  "language_info": {
   "codemirror_mode": {
    "name": "ipython",
    "version": 3
   },
   "file_extension": ".py",
   "mimetype": "text/x-python",
   "name": "python",
   "nbconvert_exporter": "python",
   "pygments_lexer": "ipython3",
   "version": "3.7.4"
  }
 },
 "nbformat": 4,
 "nbformat_minor": 2
}

{
 "cells": [
  {
   "cell_type": "markdown",
   "metadata": {},
   "source": [
    "# PyCity Schools Analysis\n",
    "\n",
    "* As a whole, schools with higher budgets, did not yield better test results. By contrast, schools with higher spending per student actually (\\$645-675) underperformed compared to schools with smaller budgets (<\\$585 per student).\n",
    "\n",
    "* As a whole, smaller and medium sized schools dramatically out-performed large sized schools on passing math performances (89-91% passing vs 67%).\n",
    "\n",
    "* As a whole, charter schools out-performed the public district schools across all metrics. However, more analysis will be required to glean if the effect is due to school practices or the fact that charter schools tend to serve smaller student populations per school. \n",
    "---"
   ]
  },
  {
   "cell_type": "code",
   "execution_count": null,
   "metadata": {},
   "outputs": [],
   "source": [
    "# Dependencies and Setup\n",
    "import pandas as pd\n",
    "import numpy as np\n",
    "\n",
    "# File to Load \n",
    "school_data_to_load = \"Resources/schools_complete.csv\"\n",
    "student_data_to_load = \"Resources/students_complete.csv\"\n",
    "\n",
    "# Read School and Student Data File and store into Pandas Data Frames\n",
    "school_data = pd.read_csv(school_data_to_load)\n",
    "student_data = pd.read_csv(student_data_to_load)\n",
    "\n",
    "# Combine the data into a single dataset (consider using a left join\n",
    "\n",
    "school_data_complete = pd.merge(student_data, school_data, how=\"left\", on=[\"school_name\", \"school_name\"])"
   ]
  },
  {
   "cell_type": "markdown",
   "metadata": {},
   "source": [
    "## District Summary"
   ]
  },
  {
   "cell_type": "code",
   "execution_count": null,
   "metadata": {},
   "outputs": [],
   "source": [
    "# Calculate the Totals (Schools and Students)\n",
    "\n",
    "#Total Number of Students\n",
    "total_student_rec = student_pd['student_name'].count()\n",
    "\n",
    "# Calculate the Total Budget\n",
    "total_budget = school_pd['total_budget'].sum()\n",
    "\n",
    "# Calculate the Average Scores\n",
    "avg_math_score = students_pd['math_score'].mean()\n",
    "avg_reading_score = students_pd['reading_score'].mean()\n",
    "\n",
    "# Calculate the Percentage Pass Rates\n",
    "passed_reading = school_data_complete.loc[school_data_complete[\"reading_score\"] >= 70]\n",
    "passed_math = school_data_complete.loc[school_data_complete[\"math_score\"] >= 70]\n",
    "passed_both = school_data_complete.loc[passed_reading.index & passed_math.index]\n",
    "\n",
    "# Minor Data Cleanup\n",
    "pct_passed_reading = len(passed_reading)/total_students\n",
    "pct_passed_math = len(passed_math)/total_students\n",
    "pct_passed_both = len(passed_both)/total_students\n",
    "avg_reading_math_passing_rate = (pct_passed_reading + pct_passed_math)/2\n",
    "\n",
    "# Display the data frame\n",
    "print(f'% Passed Reading: {pct_passed_reading}')\n",
    "print(f'% Passed Math: {pct_passed_Math}')\n",
    "print(f'% Passed Both: {pct_passed_both}')\n",
    "print(f'% Average of Reading and Math Passing Rates: {avg_reading_math_passing_rate}')                        "
   ]
  },
  {
   "cell_type": "markdown",
   "metadata": {},
   "source": [
    "## School Summary"
   ]
  },
  {
   "cell_type": "code",
   "execution_count": null,
   "metadata": {},
   "outputs": [],
   "source": [
    "# Determine the School Type\n",
    "school_types = school_data.set_index(\"school_name\")[\"type\"]\n",
    "\n",
    "# Calculate the total student count\n",
    "per_school_count = school_data_complete[\"Student_name\"].value_counts()\n",
    "\n",
    "# Calculate the total school budget and per capita spending\n",
    "per_school_budget = school_data_complete.groupby([\"school_name\"]).mean()[\"budget\"]\n",
    "per_school_capita = per_school_budget / per_school_counts\n",
    "                                  \n",
    "# Calculate the average test scores\n",
    "per_school_math = school_data_complete.groupby([\"school_name\"]).mean()[\"math_score\"]\n",
    "per_school_reading = school_data_complete.groupby([\"school_name\"]).mean()[\"reading_score\"]\n",
    "\n",
    "# Calculate the passing scores by creating a filtered data frame\n",
    "school_passing_math = school_data_complete[(school_data_complete)[\"math_score\"] >= 70]\n",
    "school_passing_reading = school_data_complete[(school_data_complete)[\"reading_score\"] >= 70]\n",
    "\n",
    "per_school_passing_math = school_passing_math.groupby([\"school_name\"]).count()[\"student_name\"] / per_school_count * 100\n",
    "per_school_passing_reading = school_passing_reading.groupby([\"school_name\"]).count()[\"student_name\"] / per_school_count * 100\n",
    "overall_passing_rate = (per_school_passing_math + per_school_passing_reading) / 2\n",
    "                                                                                                     \n",
    "# Convert to data frame\n",
    "school_summary = pd.DataFrame({\"School Type\": school_types,                                   \n",
    "                                \"Total Students\": student_per_school,\n",
    "                                \"Total School Budget\": school_budget,                                \n",
    "                                \"Per Student Budget\": Student_budget,                                 \n",
    "                                \"Average Math Score\": avg_math,\n",
    "                                \"Average Reading Score\": avg_reading,                               \n",
    "                                \"% Passing Math\": pass_math,                              \n",
    "                                \"% Passing Reading\": pass_reading,                                \n",
    "                                \"% Overall Passing Rate\": overall})                     \n",
    "\n",
    "# Minor data munging\n",
    "school_summary = School_summary[['School Type',   \n",
    "                                 'Total Students',\n",
    "                                 'Total School Budget',                                 \n",
    "                                 'Per Student Budget',                                  \n",
    "                                 'Average Math Score',\n",
    "                                 'Average Reading Score',                                \n",
    "                                 '% Passing Math',                                 \n",
    "                                 '% Passing Reading',                                \n",
    "                                 '% Overall Passing Rate',]]                                  \n",
    "                                  \n",
    "# Display the data frame\n",
    "#format cells\n",
    "dist_sum.style.format({\"Total Budget\" \"${:,.2f}\", \"Average Math Score\" \"${:.1f}\", \"Average Reading\" \"${:.1f}\", \"% Passing Math\" \"{:1%}\", \"% Passing Reading\" \"{:1%}\", \"Overall Passing Rate\" \"1%)\"    \n",
    "                       "
   ]
  },
  {
   "cell_type": "markdown",
   "metadata": {},
   "source": [
    "## Top Performing Schools (By Passing Rate)"
   ]
  },
  {
   "cell_type": "code",
   "execution_count": null,
   "metadata": {
    "scrolled": false
   },
   "outputs": [],
   "source": [
    "# Sort and show top five schools\n",
    "top_5 = school_summary.sort_values(\"Overall Passing Rate\", ascending = False)\n",
    "top_5.head().style.format({\"Total Students\": \"{:,}\",\n",
    "                           \"Total School Budget\": \"${:,}\", \n",
    "                           \"Per Student Budget\": \"${:.0f}\", \n",
    "                           \"% Passing Math\": \"{:.1%}\", \n",
    "                           \"% Passing Reading\": \"{:.1%}\", \n",
    "                           \"Overall Passing Rate\": \"{:.1%}\"})"
   ]
  },
  {
   "cell_type": "markdown",
   "metadata": {},
   "source": [
    "## Bottom Performing Schools (By Passing Rate)"
   ]
  },
  {
   "cell_type": "code",
   "execution_count": null,
   "metadata": {},
   "outputs": [],
   "source": [
    "# Sort and show bottom five schools\n",
    "bottom_five = top_five.tail()\n",
    "bottom_five = bottom_five.sort_values('Overall Passing Rate')\n",
    "bottom_five.style.format({'Total Students': '{:,}', \n",
    "                       \"Total School Budget\": \"${:,}\", \n",
    "                       \"Per Student Budget\": \"${:.0f}\", \n",
    "                       \"% Passing Math\": \"{:.1%}\", \n",
    "                       \"% Passing Reading\": \"{:.1%}\", \n",
    "                       \"Overall Passing Rate\": \"{:.1%}\"})"
   ]
  },
  {
   "cell_type": "markdown",
   "metadata": {
    "collapsed": true
   },
   "source": [
    "## Math Scores by Grade"
   ]
  },
  {
   "cell_type": "code",
   "execution_count": null,
   "metadata": {},
   "outputs": [],
   "source": [
    "# Create data series of scores by grade levels using conditionals\n",
    "ninth_graders = school_data_complete[(school_data_complete[\"grade\"] == \"9th\")]\n",
    "tenth_graders = school_data_complete[(school_data_complete[\"grade\"] == \"10th\")]\n",
    "eleventh_graders = school_data_complete[(school_data_complete[\"grade\"] == \"11th\")]\n",
    "twelfth_graders = school_data_complete[(school_data_complete[\"grade\"] == \"12th\")]\n",
    "\n",
    "# Group each by school name\n",
    "ninth_graders_scores = ninth_graders.groupby([\"school_name\"]).mean()[\"math_score\"]\n",
    "tenth_graders_scores = tenth_graders.groupby([\"school_name\"]).mean()[\"math_score\"]\n",
    "eleventh_graders_scores = eleventh_graders.groupby([\"school_name\"]).mean()[\"math_score\"]\n",
    "twelfth_graders_scores = twelfth_graders.groupby([\"school_name\"]).mean()[\"math_score\"]\n",
    "\n",
    "# Combine series into single data frame\n",
    "scores_by_grade = pd.DataFrame({\"9th\": ninth_graders_scores, \"10th\": tenth_graders_scores,\n",
    "                                \"11th\": eleventh_graders_scores, \"12\": twelfth_graders_scores})\n",
    "\n",
    "# Minor data munging\n",
    "scores_by_grade = scores_by_grade[[\"9th\", \"10\", \"11\", \"12\",]]\n",
    "scores_by_rade.index.name = None\n",
    "\n",
    "# Display the data frame\n",
    "scores_by_grade_df"
   ]
  },
  {
   "cell_type": "markdown",
   "metadata": {},
   "source": [
    "## Reading Score by Grade "
   ]
  },
  {
   "cell_type": "code",
   "execution_count": null,
   "metadata": {},
   "outputs": [],
   "source": [
    "# Create data series of scores by grade levels using conditionals\n",
    "ninth_graders = school_data_complete[(school_data_complete[\"grade\"] == \"9th\")]\n",
    "tenth_graders = school_data_complete[(school_data_complete[\"grade\"] == \"10th\")]\n",
    "eleventh_graders = school_data_complete[(school_data_complete[\"grade\"] == \"11th\")]\n",
    "twelfth_graders = school_data_complete[(school_data_complete[\"grade\"] == \"12th\")]\n",
    "\n",
    "# Group each by school name\n",
    "ninth_graders_scores = ninth_graders.groupby([\"school_name\"]).mean()[\"reading_score\"]\n",
    "tenth_graders_scores = tenth_graders.groupby([\"school_name\"]).mean()[\"reading_score\"]\n",
    "eleventh_graders_scores = eleventh_graders.groupby([\"school_name\"]).mean()[\"reading_score\"]\n",
    "twelfth_graders_scores = twelfth_graders.groupby([\"school_name\"]).mean()[\"reading_score\"]\n",
    "                                                  \n",
    "# Combine series into single data frame\n",
    "scores_by_grade = pd.DataFrame({\"9th\": ninth_graders_scores, \"10th\": tenth_graders_scores, \"11th\": eleventh_graders_scores, \"12\": twelfth_graders_scores})\n",
    "                                \n",
    "# Minor data munging\n",
    "scores_by_grade = scores_by_grade[[\"9th\", \"10\", \"11\", \"12\",]]\n",
    "scores_by_grade.index.name = None\n",
    "\n",
    "# Display the data frame\n",
    "scores_by_grade_df"
   ]
  },
  {
   "cell_type": "markdown",
   "metadata": {},
   "source": [
    "## Scores by School Spending"
   ]
  },
  {
   "cell_type": "code",
   "execution_count": null,
   "metadata": {},
   "outputs": [],
   "source": [
    "# Establish the bins -- choose any set of bins you would like, but see below for testing bins\n",
    "# to test, set your bins as follows: [0, 585, 615, 645, 675]\n",
    "# ALSO -- Note that the values for `% Passing Math`, `% Passing Reading` and `% Overall Passing Rate`\n",
    "# were computed using averages of averages -- your results may vary if you use weighted averages \n",
    "bins = [0, 584.999, 614.999, 644.999, 999999]\n",
    "group_name = [\"< $585\", \"$585 - 614\", \"$615 - 644\", \"> $644\"]\n",
    "merged_df[\"spending_bins\"] = pd.cut (merged_df[\"budget\"]/merged_df[\"size\"], bins, labels = group_name)\n",
    "\n",
    "# Categorize the spending based on the bins\n",
    "by_spending = merged_df.groupby(\"spending_bins\")\n",
    "avg_math = by_spending[\"math_score\"].mean()\n",
    "avg_reading = by_spending[\"reading_score\"].mean()\n",
    "pass_math = merged_df[merged_df[\"math_score\"] >= 70].groupby(\"spending_bins\")[\"Student ID\"].count() /by_spending[\"Student ID\"].count()\n",
    "pass_read = merged_df[merged_df[\"reading_score\"] >= 70].groupby(\"spending_bins\")[\"Student ID\"].count() /by_spending[\"Student ID\"].count()\n",
    "Overall = merged_df[(merged_df[\"reading_score\"] >= 70) & (merged_df[\"math_score\"] >= 70)].groupby(\"spending_bins\")[\"Student ID\"].count()/by_spending[\"Student ID\"].count()\n",
    "\n",
    "# Assemble into data frame\n",
    "scores_by_spending = pd.DataFrame({\"Average Math Score\": avg_math,\n",
    "                                   \"Average Reading Score\": avg_read,\n",
    "                                   \"% Passing Math\": pass_math,\n",
    "                                   \"% Passing Reading\": pass_read,\n",
    "                                   \"Overall Passing Rate\": overall})\n",
    "\n",
    "scores_by_spend = scores_by_spend({\"Average Math Score\",\n",
    "                                   \"Average Reading Score\",\n",
    "                                   \"% Passing Math\",\n",
    "                                   \"% Passing Reading\",\n",
    "                                   \"Overall Passing Rate\"})\n",
    "\n",
    "# Minor data munging\n",
    "scores_by_spending.index.name = \"Per Student Budget\"\n",
    "scores_by_spending = scores_by_spending.reindex(group_name)\n",
    "\n",
    "# Display results\n",
    "scores_by_spend.style.format ({''})"
   ]
  },
  {
   "cell_type": "markdown",
   "metadata": {},
   "source": [
    "## Scores by School Size"
   ]
  },
  {
   "cell_type": "code",
   "execution_count": null,
   "metadata": {
    "scrolled": true
   },
   "outputs": [],
   "source": [
    "# Establish the bins \n",
    "bins = [0, 999, 1999, 99999999999]\n",
    "group_name = [\"Small (<1000)\", \"Medium (1000-2000)\", \"Large (>2000)\"]\n",
    "merged_df['size_bins'] = pd.cut(merged_df['size'], bins, labels = group_name)\n",
    "\n",
    "# Categorize the spending based on the bins\n",
    "by_size = merged_df.groupby('size_bins')\n",
    "\n",
    "# Calculate the scores based on bins\n",
    "avg_math = by_size['math_score'].mean()\n",
    "avg_read = by_size['math_score'].mean()\n",
    "pass_math = merged_df[merged_df['math_score'] >= 70].groupby('size_bins')['Student ID'].count()/by_size['Student ID'].count()\n",
    "pass_read = merged_df[merged_df['reading_score'] >= 70].groupby('size_bins')['Student ID'].count()/by_size['Student ID'].count()\n",
    "Overall = merged_df[merged_df['reading_score'] >= 70] & (merged_df['math_score'] >= 70).groupby('size_bins')['Student ID'].count()/by_size['Student ID'].count()\n",
    "\n",
    "# Assemble into data frame\n",
    "scores_by_school_size = pd.DataFrame({\"Average Math Score\": avg_math,\n",
    "                                   \"Average Reading Score\": avg_read,\n",
    "                                   \"% Passing Math\": pass_math,\n",
    "                                   \"% Passing Reading\": pass_read,\n",
    "                                   \"Overall Passing Rate\": overall})\n",
    "\n",
    "scores_by_size = scores_by_size({\"Average Math Score\",\n",
    "                                   \"Average Reading Score\",\n",
    "                                   \"% Passing Math\",\n",
    "                                   \"% Passing Reading\",\n",
    "                                   \"Overall Passing Rate\"})\n",
    "\n",
    "\n",
    "# Minor data munging\n",
    "scores_by_school_size.index.name = \"Per School Size\"\n",
    "scores_by_school_size = scores_by_size.reindex(group_name)\n",
    "\n",
    "# Display results\n",
    "scores_by_size.style.format({''})"
   ]
  },
  {
   "cell_type": "markdown",
   "metadata": {},
   "source": [
    "## Scores by School Type"
   ]
  },
  {
   "cell_type": "code",
   "execution_count": null,
   "metadata": {},
   "outputs": [],
   "source": [
    "# Type | Average Math Score | Average Reading Score | % Passing Math | % Passing Reading | % Overall Passing Rate\n",
    "school_type = school_type[['School Type', 'Average Math Score', 'Average Reading Score','% Passing Math''% Passing Reading','% Overall Passing Rate']]\n",
    "\n",
    "# Assemble into data frame\n",
    "scores_by_school_type_df = school_type.group('School Type').mean()\n",
    "\n",
    "# Minor data munging\n",
    "scores_by_school_type.index.name = \"Per School Type\"\n",
    "scores_by_school_type = scores_by_type.reindex(group_name)\n",
    "\n",
    "\n",
    "# Display results\n",
    "scores_by_school_type_.format({''})"
   ]
  },
  {
   "cell_type": "code",
   "execution_count": null,
   "metadata": {},
   "outputs": [],
   "source": []
  }
 ],
 "metadata": {
  "anaconda-cloud": {},
  "kernel_info": {
   "name": "python3"
  },
  "kernelspec": {
   "display_name": "Python 3",
   "language": "python",
   "name": "python3"
  },
  "language_info": {
   "codemirror_mode": {
    "name": "ipython",
    "version": 3
   },
   "file_extension": ".py",
   "mimetype": "text/x-python",
   "name": "python",
   "nbconvert_exporter": "python",
   "pygments_lexer": "ipython3",
   "version": "3.7.4"
  },
  "latex_envs": {
   "LaTeX_envs_menu_present": true,
   "autoclose": false,
   "autocomplete": true,
   "bibliofile": "biblio.bib",
   "cite_by": "apalike",
   "current_citInitial": 1,
   "eqLabelWithNumbers": true,
   "eqNumInitial": 1,
   "hotkeys": {
    "equation": "Ctrl-E",
    "itemize": "Ctrl-I"
   },
   "labels_anchors": false,
   "latex_user_defs": false,
   "report_style_numbering": false,
   "user_envs_cfg": false
  },
  "nteract": {
   "version": "0.8.4"
  }
 },
 "nbformat": 4,
 "nbformat_minor": 1
}
